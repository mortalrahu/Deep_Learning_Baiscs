{
 "cells": [
  {
   "cell_type": "code",
   "execution_count": null,
   "id": "2472ccb8-6030-42ce-847c-fa91ebd80743",
   "metadata": {},
   "outputs": [],
   "source": []
  }
 ],
 "metadata": {
  "kernelspec": {
   "display_name": "",
   "name": ""
  },
  "language_info": {
   "name": ""
  }
 },
 "nbformat": 4,
 "nbformat_minor": 5
}
